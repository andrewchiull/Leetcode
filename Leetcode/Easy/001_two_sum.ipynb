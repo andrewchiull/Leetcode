{
 "cells": [
  {
   "cell_type": "code",
   "execution_count": 1,
   "source": [
    "from typing import List\n"
   ],
   "outputs": [],
   "metadata": {}
  },
  {
   "cell_type": "markdown",
   "source": [
    "# 1: Too slow"
   ],
   "metadata": {}
  },
  {
   "cell_type": "code",
   "execution_count": 2,
   "source": [
    "class Solution:\n",
    "    def twoSum(self, nums: List[int], target: int) -> List[int]:\n",
    "        for index in range(len(nums)):\n",
    "            for interval in range(1, len(nums) - index):\n",
    "                if nums[index] + nums[index + interval] == target:\n",
    "                    return [index, index + interval]"
   ],
   "outputs": [],
   "metadata": {}
  },
  {
   "cell_type": "markdown",
   "source": [
    "# 2: Wrong\n"
   ],
   "metadata": {}
  },
  {
   "cell_type": "code",
   "execution_count": 3,
   "source": [
    "class Solution:\n",
    "    def twoSum(self, nums: List[int], target: int) -> List[int]:\n",
    "        diffs = []\n",
    "        for num in nums:\n",
    "            if num in diffs and diffs.index(num) < num.index(num):\n",
    "                # if there are repeated values, ls.index(elem) will return the index of the first elem\n",
    "                return [diffs.index(num), num.index(num)]\n",
    "            diffs.append(target - num)"
   ],
   "outputs": [],
   "metadata": {}
  },
  {
   "cell_type": "markdown",
   "source": [
    "# 3: OK\n"
   ],
   "metadata": {}
  },
  {
   "cell_type": "code",
   "execution_count": 4,
   "source": [
    "class Solution:\n",
    "    def twoSum(self, nums: List[int], target: int) -> List[int]:\n",
    "        diffs = []\n",
    "        for index, num in enumerate(nums):\n",
    "            if num in diffs and diffs.index(num) < index:\n",
    "                return [diffs.index(num), index]\n",
    "            diffs.append(target - num)"
   ],
   "outputs": [],
   "metadata": {}
  },
  {
   "cell_type": "markdown",
   "source": [
    "# Sol: Use HashMap\n",
    "\n",
    "- Runtime: 60 ms, faster than 76.38% of Python3 online submissions for Two Sum.\n",
    "- Memory Usage: 15.4 MB, less than 20.38% of Python3 online submissions for Two Sum.\n"
   ],
   "metadata": {}
  },
  {
   "cell_type": "code",
   "execution_count": 5,
   "source": [
    "class Solution:\n",
    "    def twoSum(self, nums: List[int], target: int) -> List[int]:\n",
    "        seen = {}\n",
    "        for index, num in enumerate(nums):\n",
    "            diff = target - num\n",
    "            if diff in seen:\n",
    "                return [seen[diff], index]\n",
    "            seen[num] = index"
   ],
   "outputs": [],
   "metadata": {}
  }
 ],
 "metadata": {
  "orig_nbformat": 4,
  "language_info": {
   "name": "python",
   "version": "3.8.10",
   "mimetype": "text/x-python",
   "codemirror_mode": {
    "name": "ipython",
    "version": 3
   },
   "pygments_lexer": "ipython3",
   "nbconvert_exporter": "python",
   "file_extension": ".py"
  },
  "kernelspec": {
   "name": "python3",
   "display_name": "Python 3.8.10 64-bit ('3.8.10': pyenv)"
  },
  "interpreter": {
   "hash": "35870291461dd7803f8b90d995d01b1453bb5caa5457cbc7c491fa5d5f972551"
  }
 },
 "nbformat": 4,
 "nbformat_minor": 2
}